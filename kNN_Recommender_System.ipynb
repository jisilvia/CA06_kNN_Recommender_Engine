{
  "nbformat": 4,
  "nbformat_minor": 0,
  "metadata": {
    "colab": {
      "name": "CA06 - kNN based Recommender Engine",
      "provenance": []
    },
    "kernelspec": {
      "name": "python3",
      "display_name": "Python 3"
    },
    "language_info": {
      "name": "python"
    }
  },
  "cells": [
    {
      "cell_type": "markdown",
      "metadata": {
        "id": "_b4GSUui4tRI"
      },
      "source": [
        "# CA06 - kNN based Recommender Engine\n",
        "In this project, a kNN (k-nearest neighbor) recommender engine is built in order to make predictions in regards to movies. Other examples of recommender engines include recommending products on Amazon, articles on Medium, movies on Netflix, or videos on YouTube. Although we can be certain they all use more efficient means of making recommendations due to the enormous volume of data they process. However, we could replicate one of these recommender systems on a smaller scale; Let us build the core of a movies recommender system.\n",
        "\n",
        "\n",
        "**Given a movies data set, what are the 5 most similar movies to a movie query?**"
      ]
    },
    {
      "cell_type": "code",
      "metadata": {
        "id": "m-BRQw21524m"
      },
      "source": [
        "# Importing packages\n",
        "import pandas as pd\n",
        "import numpy as np\n",
        "from sklearn.neighbors import NearestNeighbors"
      ],
      "execution_count": 214,
      "outputs": []
    },
    {
      "cell_type": "markdown",
      "metadata": {
        "id": "7aLxa3BN5yh9"
      },
      "source": [
        "## 1. Data Source and Contents\n",
        "\n",
        "This dataset contains thirty movies representing seven genres and their IMDB ratings. The label column values are all zeroes because this dataset is not used for classification or regression. You can ignore this column. The implementation assumes that all columns contain numerical data.\n",
        "\n",
        "Additionally, there are relationships among the movies that will not be accounted for (e.g. actors, directors, and themes) when using the KNN algorithm simply because the data that captures those relationships is missing from the dataset. Consequently, when we run the KNN algorithm on our data, similarities will be based solely on the movies' genres and the IMDB ratings."
      ]
    },
    {
      "cell_type": "code",
      "metadata": {
        "id": "cuHCbykI55cv"
      },
      "source": [
        "# Loading dataset\n",
        "movies = pd.read_csv('https://github.com/ArinB/CA05-kNN/raw/master/movies_recommendation_data.csv', index_col='Movie ID')"
      ],
      "execution_count": 207,
      "outputs": []
    },
    {
      "cell_type": "code",
      "metadata": {
        "colab": {
          "base_uri": "https://localhost:8080/",
          "height": 235
        },
        "id": "5iK2f1M-6GLu",
        "outputId": "34af675f-22dd-484e-d48f-f286e004ac85"
      },
      "source": [
        "# Previewing data\n",
        "movies.head()"
      ],
      "execution_count": 208,
      "outputs": [
        {
          "output_type": "execute_result",
          "data": {
            "text/html": [
              "<div>\n",
              "<style scoped>\n",
              "    .dataframe tbody tr th:only-of-type {\n",
              "        vertical-align: middle;\n",
              "    }\n",
              "\n",
              "    .dataframe tbody tr th {\n",
              "        vertical-align: top;\n",
              "    }\n",
              "\n",
              "    .dataframe thead th {\n",
              "        text-align: right;\n",
              "    }\n",
              "</style>\n",
              "<table border=\"1\" class=\"dataframe\">\n",
              "  <thead>\n",
              "    <tr style=\"text-align: right;\">\n",
              "      <th></th>\n",
              "      <th>Movie Name</th>\n",
              "      <th>IMDB Rating</th>\n",
              "      <th>Biography</th>\n",
              "      <th>Drama</th>\n",
              "      <th>Thriller</th>\n",
              "      <th>Comedy</th>\n",
              "      <th>Crime</th>\n",
              "      <th>Mystery</th>\n",
              "      <th>History</th>\n",
              "      <th>Label</th>\n",
              "    </tr>\n",
              "    <tr>\n",
              "      <th>Movie ID</th>\n",
              "      <th></th>\n",
              "      <th></th>\n",
              "      <th></th>\n",
              "      <th></th>\n",
              "      <th></th>\n",
              "      <th></th>\n",
              "      <th></th>\n",
              "      <th></th>\n",
              "      <th></th>\n",
              "      <th></th>\n",
              "    </tr>\n",
              "  </thead>\n",
              "  <tbody>\n",
              "    <tr>\n",
              "      <th>58</th>\n",
              "      <td>The Imitation Game</td>\n",
              "      <td>8.0</td>\n",
              "      <td>1</td>\n",
              "      <td>1</td>\n",
              "      <td>1</td>\n",
              "      <td>0</td>\n",
              "      <td>0</td>\n",
              "      <td>0</td>\n",
              "      <td>0</td>\n",
              "      <td>0</td>\n",
              "    </tr>\n",
              "    <tr>\n",
              "      <th>8</th>\n",
              "      <td>Ex Machina</td>\n",
              "      <td>7.7</td>\n",
              "      <td>0</td>\n",
              "      <td>1</td>\n",
              "      <td>0</td>\n",
              "      <td>0</td>\n",
              "      <td>0</td>\n",
              "      <td>1</td>\n",
              "      <td>0</td>\n",
              "      <td>0</td>\n",
              "    </tr>\n",
              "    <tr>\n",
              "      <th>46</th>\n",
              "      <td>A Beautiful Mind</td>\n",
              "      <td>8.2</td>\n",
              "      <td>1</td>\n",
              "      <td>1</td>\n",
              "      <td>0</td>\n",
              "      <td>0</td>\n",
              "      <td>0</td>\n",
              "      <td>0</td>\n",
              "      <td>0</td>\n",
              "      <td>0</td>\n",
              "    </tr>\n",
              "    <tr>\n",
              "      <th>62</th>\n",
              "      <td>Good Will Hunting</td>\n",
              "      <td>8.3</td>\n",
              "      <td>0</td>\n",
              "      <td>1</td>\n",
              "      <td>0</td>\n",
              "      <td>0</td>\n",
              "      <td>0</td>\n",
              "      <td>0</td>\n",
              "      <td>0</td>\n",
              "      <td>0</td>\n",
              "    </tr>\n",
              "    <tr>\n",
              "      <th>97</th>\n",
              "      <td>Forrest Gump</td>\n",
              "      <td>8.8</td>\n",
              "      <td>0</td>\n",
              "      <td>1</td>\n",
              "      <td>0</td>\n",
              "      <td>0</td>\n",
              "      <td>0</td>\n",
              "      <td>0</td>\n",
              "      <td>0</td>\n",
              "      <td>0</td>\n",
              "    </tr>\n",
              "  </tbody>\n",
              "</table>\n",
              "</div>"
            ],
            "text/plain": [
              "                  Movie Name  IMDB Rating  Biography  ...  Mystery  History  Label\n",
              "Movie ID                                              ...                         \n",
              "58        The Imitation Game          8.0          1  ...        0        0      0\n",
              "8                 Ex Machina          7.7          0  ...        1        0      0\n",
              "46          A Beautiful Mind          8.2          1  ...        0        0      0\n",
              "62         Good Will Hunting          8.3          0  ...        0        0      0\n",
              "97              Forrest Gump          8.8          0  ...        0        0      0\n",
              "\n",
              "[5 rows x 10 columns]"
            ]
          },
          "metadata": {
            "tags": []
          },
          "execution_count": 208
        }
      ]
    },
    {
      "cell_type": "code",
      "metadata": {
        "colab": {
          "base_uri": "https://localhost:8080/"
        },
        "id": "Tkr2ZbHw-i4S",
        "outputId": "f3eb7c84-b220-4076-f81e-cdb0e6434397"
      },
      "source": [
        "movies.info()"
      ],
      "execution_count": 209,
      "outputs": [
        {
          "output_type": "stream",
          "text": [
            "<class 'pandas.core.frame.DataFrame'>\n",
            "Int64Index: 30 entries, 58 to 46\n",
            "Data columns (total 10 columns):\n",
            " #   Column       Non-Null Count  Dtype  \n",
            "---  ------       --------------  -----  \n",
            " 0   Movie Name   30 non-null     object \n",
            " 1   IMDB Rating  30 non-null     float64\n",
            " 2   Biography    30 non-null     int64  \n",
            " 3   Drama        30 non-null     int64  \n",
            " 4   Thriller     30 non-null     int64  \n",
            " 5   Comedy       30 non-null     int64  \n",
            " 6   Crime        30 non-null     int64  \n",
            " 7   Mystery      30 non-null     int64  \n",
            " 8   History      30 non-null     int64  \n",
            " 9   Label        30 non-null     int64  \n",
            "dtypes: float64(1), int64(8), object(1)\n",
            "memory usage: 2.6+ KB\n"
          ],
          "name": "stdout"
        }
      ]
    },
    {
      "cell_type": "markdown",
      "metadata": {
        "id": "stfzBrgD7dv5"
      },
      "source": [
        "## 2. Building a Recommender System\n",
        "\n",
        "*Scenario*: You are building your own movie recommendation website which uses your Recommendation Engine at the back-end. You are going to build this back-end Recommendation Engine. Imagine a user is navigating your recommendation website, and he/she encounters a movie named “The Post”. The user is not sure if he/she wants to watch it, but its genres intrigue the user; he/she is curious about other similar movies. The user scrolls down to the “More Like This” section to see what recommendations your recommendation website will make, and the back-end algorithmic gears begin to turn.\n",
        "\n",
        "Your website sends a request to its back-end for the 5 movies that are most similar to The Post. The back- end has a recommendation data set exactly like ours. It begins by creating the row representation (better known as a feature vector) for The Post, then it runs a program similar to the one below to search for the 5 movies that are most similar to The Post, and finally sends the results back to the user at your website.\n",
        "\n",
        "*Following is the genre information about the movie “The Post”*:\n",
        "\n",
        "> IMDB Rating = 7.2, Biography = Yes, Drama = Yes, Thriller = No, Comedy = No,\n",
        "Crime = No, Mystery = No, History = Yes"
      ]
    },
    {
      "cell_type": "code",
      "metadata": {
        "id": "UT2PSKB-Fw1h"
      },
      "source": [
        "# Adding The Post data\n",
        "post_data = {'IMDB Rating':[7.2], 'Biography':1, 'Drama':1, 'Thriller':0, 'Comedy':0, 'Crime':0, 'Mystery':0, 'History':1}\n",
        "the_post = pd.DataFrame(data=post_data, index=None)"
      ],
      "execution_count": 210,
      "outputs": []
    },
    {
      "cell_type": "code",
      "metadata": {
        "id": "NOLn68E_AVLc"
      },
      "source": [
        "# Selecting feature variables \n",
        "feature_cols = movies.drop(['Movie Name','Label'], axis=1)\n",
        "X = feature_cols"
      ],
      "execution_count": 211,
      "outputs": []
    },
    {
      "cell_type": "code",
      "metadata": {
        "id": "RpUvo_fu7_5R"
      },
      "source": [
        "# Using NearestNeighbors model and kneighbors() method to find k neighbors.\n",
        "# Setting n_neighbors = 5 to find 5 similar movies \n",
        "# Using brute force due to small sample size (30) and few dimensions (11)\n",
        "\n",
        "neigh = NearestNeighbors(n_neighbors=5, algorithm='brute')\n",
        "neigh.fit(X)\n",
        "distances, indices = neigh.kneighbors(the_post)"
      ],
      "execution_count": 212,
      "outputs": []
    },
    {
      "cell_type": "code",
      "metadata": {
        "colab": {
          "base_uri": "https://localhost:8080/"
        },
        "id": "EkpYt2NEcq3T",
        "outputId": "4f62ffab-7c38-4ea6-f799-58a94f188638"
      },
      "source": [
        "# Printing the top 5 movie recommendations:\n",
        "\n",
        "print('Recommendations for \"The Post\":\\n')\n",
        "for i in range(len(distances.flatten())):\n",
        "  print('{0}: {1}, with a distance of {2}.'.format(i+1, movies['Movie Name'].iloc[indices.flatten()[i]],distances.flatten()[i]))"
      ],
      "execution_count": 213,
      "outputs": [
        {
          "output_type": "stream",
          "text": [
            "Recommendations for \"The Post\":\n",
            "\n",
            "1: 12 Years a Slave, with a distance of 0.9000000000000012.\n",
            "2: Hacksaw Ridge, with a distance of 1.0.\n",
            "3: Queen of Katwe, with a distance of 1.0198039027185601.\n",
            "4: The Wind Rises, with a distance of 1.1661903789690629.\n",
            "5: The Karate Kid, with a distance of 1.4142135623730951.\n"
          ],
          "name": "stdout"
        }
      ]
    }
  ]
}
